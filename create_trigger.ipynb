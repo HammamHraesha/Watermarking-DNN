{
 "cells": [
  {
   "cell_type": "code",
   "execution_count": null,
   "metadata": {},
   "outputs": [],
   "source": [
    "import requests\n",
    "import json\n",
    "import random"
   ]
  },
  {
   "cell_type": "code",
   "execution_count": null,
   "metadata": {},
   "outputs": [],
   "source": [
    "# We will generate 50 random images \n",
    "num_images = 50"
   ]
  },
  {
   "cell_type": "code",
   "execution_count": null,
   "metadata": {},
   "outputs": [],
   "source": [
    "# Our path to save \n",
    "path = \"trigger_set\"\n",
    "\n",
    "if not os.path.exists(path):\n",
    "    os.mkdir(path)"
   ]
  },
  {
   "cell_type": "code",
   "execution_count": null,
   "metadata": {},
   "outputs": [],
   "source": [
    "# Loop through the set to get random images\n",
    "while i < num_images:\n",
    "    id = random.randint(11,200)\n",
    "    url = f'https://picsum.photos/id/{id}/info'\n",
    "    response = requests.get(url)\n",
    "    try:\n",
    "        image_url = json.loads(response.text)[\"download_url\"]\n",
    "    except:\n",
    "        continue\n",
    "    response = requests.get(image_url)\n",
    "\n",
    "    with open(f'{path}/images/random_image_{i}.jpg', 'wb') as file:\n",
    "        file.write(response.content)\n",
    "    i += 1\n",
    "print(\"Done\")\n"
   ]
  },
  {
   "cell_type": "code",
   "execution_count": 24,
   "metadata": {},
   "outputs": [],
   "source": [
    "with open(f'{path}/labels/labels.txt', 'w') as file:\n",
    "    for _ in range(50):\n",
    "        label = random.randint(0, 9)\n",
    "        file.write(str(label) + \"\\n\")"
   ]
  }
 ],
 "metadata": {
  "kernelspec": {
   "display_name": "Python 3.11.0 64-bit",
   "language": "python",
   "name": "python3"
  },
  "language_info": {
   "codemirror_mode": {
    "name": "ipython",
    "version": 3
   },
   "file_extension": ".py",
   "mimetype": "text/x-python",
   "name": "python",
   "nbconvert_exporter": "python",
   "pygments_lexer": "ipython3",
   "version": "3.11.0"
  },
  "orig_nbformat": 4,
  "vscode": {
   "interpreter": {
    "hash": "aee8b7b246df8f9039afb4144a1f6fd8d2ca17a180786b69acc140d282b71a49"
   }
  }
 },
 "nbformat": 4,
 "nbformat_minor": 2
}
